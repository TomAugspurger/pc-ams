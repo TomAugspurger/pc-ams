{
 "cells": [
  {
   "cell_type": "markdown",
   "id": "96f80267-22fa-4bbc-8fae-8c18b0610aa1",
   "metadata": {},
   "source": [
    "# Cloud Native Geospatial with the Planetary Computer\n",
    "\n",
    "**AMS 2024**\n",
    "\n",
    "- [Data Access](data-access.ipynb)\n",
    "- [JPSS](jpss.ipynb)"
   ]
  }
 ],
 "metadata": {
  "kernelspec": {
   "display_name": "Python 3 (ipykernel)",
   "language": "python",
   "name": "python3"
  },
  "language_info": {
   "codemirror_mode": {
    "name": "ipython",
    "version": 3
   },
   "file_extension": ".py",
   "mimetype": "text/x-python",
   "name": "python",
   "nbconvert_exporter": "python",
   "pygments_lexer": "ipython3",
   "version": "3.10.10"
  }
 },
 "nbformat": 4,
 "nbformat_minor": 5
}
